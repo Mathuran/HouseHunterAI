{
 "cells": [
  {
   "cell_type": "code",
   "execution_count": 36,
   "metadata": {},
   "outputs": [
    {
     "name": "stdout",
     "output_type": "stream",
     "text": [
      "now time: 2023-09-27T16:59:59.152712-05:00\n",
      "morning time: 2023-09-28T09:00:00.153024\n",
      "1695848923.153085\n"
     ]
    }
   ],
   "source": [
    "## Travel time cell\n",
    "from datetime import datetime, timedelta\n",
    "from pytz import timezone as ptz\n",
    "\n",
    "DATE_FORMAT = \"%Y-%m-%dT%H:%M:%-SZ\"\n",
    "oneDay = timedelta(1)\n",
    "\n",
    "departureTimeOptions = {\n",
    "    'now': lambda tz : datetime.now(tz).replace(minute=59, second=59).isoformat(),\n",
    "    'morning': lambda tz : (datetime.now().replace(hour=9, minute=0, second=0) + oneDay).isoformat(),\n",
    "    'noon': lambda tz : (datetime.now(tz).replace(hour=12, minute=0, second=0) + oneDay).isoformat(),\n",
    "    'afternoon': lambda tz : (datetime.now(tz).replace(hour=5, minute=0, second=0) + oneDay).isoformat(),\n",
    "    'evening': lambda tz : (datetime.now(tz).replace(hour=7, minute=0, second=0) + oneDay).isoformat(),\n",
    "}\n",
    "\n",
    "print(\"now time: \" + departureTimeOptions['now'](ptz('EST')))\n",
    "print(\"morning time: \" + departureTimeOptions['morning'](ptz('EST')))\n",
    "print(datetime.now().timestamp())"
   ]
  },
  {
   "cell_type": "code",
   "execution_count": 34,
   "metadata": {},
   "outputs": [
    {
     "name": "stdout",
     "output_type": "stream",
     "text": [
      "{\n",
      "  \"routes\": [\n",
      "    {\n",
      "      \"distanceMeters\": 6812,\n",
      "      \"duration\": \"991s\",\n",
      "      \"polyline\": {\n",
      "        \"encodedPolyline\": \"omyhGtlceNkCuD?Gf@{@LCXN|EtFXd@DRCXq@tAb@l@tA{EF]u@g@uAw@cB}AqBaCSIK?qCeDsCcDiDcE{@}@gFoGoBmC}GcIkEkFqCaDkCkDqJiL}@eAc@cAiJuKeDzEg@~@Of@qEnHyG|K_@Tw@fAkEbH}GzK]b@Kd@m@fA_KbPcC~DoCjEwF`JmAtAsAvAUHc@f@oDdFyCuDeBoBaGqGiLaNiFoGyCkDoRsU{LqOgIpOGRURGDgAD\"\n",
      "      }\n",
      "    }\n",
      "  ]\n",
      "}\n",
      "\n"
     ]
    }
   ],
   "source": [
    "import requests\n",
    "from const import GOOGLE_MAPS_API_KEY\n",
    "\n",
    "\n",
    "\n",
    "COMPUTE_ROUTE_URL = 'https://routes.googleapis.com/directions/v2:computeRoutes'\n",
    "SOME_HOUSE = '3025 The Credit Woodlands, Mississauga, ON L5C 2V3'\n",
    "SQUARE_ONE_ADDRESS = '100 City Centre Dr, Mississauga, ON L5B 2C9'\n",
    "# travelTimes = {\n",
    "#     now: lambda : datetime.datetime.now()\n",
    "#     morning: lambda : datetime.datetime\n",
    "# }\n",
    "\n",
    "\n",
    "def computeRoutes(originAddress: str, destinationAddress: str, departureOption = 'now'):\n",
    "\n",
    "    headers = {\n",
    "        'Content-Type': 'application/json',\n",
    "        'X-Goog-Api-Key': GOOGLE_MAPS_API_KEY,\n",
    "        'X-Goog-FieldMask': 'routes.duration,routes.distanceMeters,routes.polyline.encodedPolyline',\n",
    "    }\n",
    "\n",
    "    json_data = {\n",
    "        'origin': {\n",
    "            'address': originAddress\n",
    "        },\n",
    "        'destination': {\n",
    "            'address': destinationAddress\n",
    "        },\n",
    "        'travelMode': 'DRIVE',\n",
    "        'routingPreference': 'TRAFFIC_AWARE',\n",
    "        'departureTime': departureTimeOptions[departureOption](ptz('EST')),\n",
    "        'computeAlternativeRoutes': False,\n",
    "        'routeModifiers': {\n",
    "            'avoidTolls': True,\n",
    "            'avoidHighways': False,\n",
    "            'avoidFerries': True,\n",
    "        },\n",
    "        'languageCode': 'en-US',\n",
    "        'units': 'IMPERIAL',\n",
    "    }\n",
    "\n",
    "    response = requests.post(\n",
    "        COMPUTE_ROUTE_URL, headers=headers, json=json_data)\n",
    "\n",
    "    return response.text\n",
    "\n",
    "\n",
    "print(computeRoutes(SOME_HOUSE, SQUARE_ONE_ADDRESS))\n"
   ]
  }
 ],
 "metadata": {
  "kernelspec": {
   "display_name": "venv",
   "language": "python",
   "name": "python3"
  },
  "language_info": {
   "codemirror_mode": {
    "name": "ipython",
    "version": 3
   },
   "file_extension": ".py",
   "mimetype": "text/x-python",
   "name": "python",
   "nbconvert_exporter": "python",
   "pygments_lexer": "ipython3",
   "version": "3.11.4"
  },
  "orig_nbformat": 4
 },
 "nbformat": 4,
 "nbformat_minor": 2
}
