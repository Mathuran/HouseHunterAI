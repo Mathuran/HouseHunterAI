{
 "cells": [
  {
   "cell_type": "code",
   "execution_count": null,
   "metadata": {},
   "outputs": [],
   "source": [
    "print(\"Hello\")"
   ]
  },
  {
   "cell_type": "code",
   "execution_count": 1,
   "metadata": {},
   "outputs": [
    {
     "name": "stdout",
     "output_type": "stream",
     "text": [
      "{\n",
      "  \"routes\": [\n",
      "    {\n",
      "      \"distanceMeters\": 6812,\n",
      "      \"duration\": \"911s\",\n",
      "      \"polyline\": {\n",
      "        \"encodedPolyline\": \"omyhGtlceNkCuD?Gf@{@LCXN|EtFXd@DRCXq@tAb@l@tA{EF]u@g@uAw@cB}AqBaCSIK?qCeDsCcDiDcE{@}@gFoGoBmC}GcIkEkFqCaDkCkDqJiL}@eAc@cAiJuKeDzEg@~@Of@qEnHyG|K_@Tw@fAkEbH}GzK]b@Kd@m@fA_KbPcC~DoCjEwF`JmAtAsAvAUHc@f@oDdFyCuDeBoBaGqGiLaNiFoGyCkDoRsU{LqOgIpOGRURGDgAD\"\n",
      "      }\n",
      "    }\n",
      "  ]\n",
      "}\n",
      "\n"
     ]
    }
   ],
   "source": [
    "import requests\n",
    "import sys\n",
    "from const import GOOGLE_MAPS_API_KEY\n",
    "\n",
    "\n",
    "\n",
    "COMPUTE_ROUTE_URL = 'https://routes.googleapis.com/directions/v2:computeRoutes'\n",
    "SOME_HOUSE = '3025 The Credit Woodlands, Mississauga, ON L5C 2V3'\n",
    "SQUARE_ONE_ADDRESS = '100 City Centre Dr, Mississauga, ON L5B 2C9'\n",
    "\n",
    "\n",
    "def computeRoutes(originAddress: str, destinationAddress: str):\n",
    "\n",
    "    headers = {\n",
    "        'Content-Type': 'application/json',\n",
    "        'X-Goog-Api-Key': GOOGLE_MAPS_API_KEY,\n",
    "        'X-Goog-FieldMask': 'routes.duration,routes.distanceMeters,routes.polyline.encodedPolyline',\n",
    "    }\n",
    "\n",
    "    json_data = {\n",
    "        'origin': {\n",
    "            'address': originAddress\n",
    "        },\n",
    "        'destination': {\n",
    "            'address': destinationAddress\n",
    "        },\n",
    "        'travelMode': 'DRIVE',\n",
    "        'routingPreference': 'TRAFFIC_AWARE',\n",
    "        'departureTime': '2023-10-15T15:01:23.045123456Z',\n",
    "        'computeAlternativeRoutes': False,\n",
    "        'routeModifiers': {\n",
    "            'avoidTolls': False,\n",
    "            'avoidHighways': False,\n",
    "            'avoidFerries': False,\n",
    "        },\n",
    "        'languageCode': 'en-US',\n",
    "        'units': 'IMPERIAL',\n",
    "    }\n",
    "\n",
    "    response = requests.post(\n",
    "        COMPUTE_ROUTE_URL, headers=headers, json=json_data)\n",
    "\n",
    "    return response.text\n",
    "\n",
    "\n",
    "print(computeRoutes(SOME_HOUSE, SQUARE_ONE_ADDRESS))\n"
   ]
  }
 ],
 "metadata": {
  "kernelspec": {
   "display_name": "venv",
   "language": "python",
   "name": "python3"
  },
  "language_info": {
   "codemirror_mode": {
    "name": "ipython",
    "version": 3
   },
   "file_extension": ".py",
   "mimetype": "text/x-python",
   "name": "python",
   "nbconvert_exporter": "python",
   "pygments_lexer": "ipython3",
   "version": "3.11.4"
  },
  "orig_nbformat": 4
 },
 "nbformat": 4,
 "nbformat_minor": 2
}
